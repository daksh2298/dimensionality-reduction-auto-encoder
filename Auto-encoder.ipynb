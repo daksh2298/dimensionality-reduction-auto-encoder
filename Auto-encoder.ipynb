{
  "nbformat": 4,
  "nbformat_minor": 0,
  "metadata": {
    "colab": {
      "name": "A4_full",
      "provenance": [],
      "collapsed_sections": []
    },
    "kernelspec": {
      "name": "python3",
      "display_name": "Python 3"
    },
    "accelerator": "GPU"
  },
  "cells": [
    {
      "cell_type": "markdown",
      "metadata": {
        "id": "Lg5xeuzY5a_g",
        "colab_type": "text"
      },
      "source": [
        "<table>\n",
        "<caption><h1>Made by<h1></caption>\n",
        "<tr>\n",
        "<td><h3>Name</h3></td>\n",
        "<td><h3>Banner Number</h3></td>\n",
        "</tr>\n",
        "<tr>\n",
        "<td><h3>Daksh Patel</h3></td>\n",
        "<td><h3>B00843468</h3></td>\n",
        "</tr>\n",
        "<tr>\n",
        "<td><h3>Poojan Patel</h3></td>\n",
        "<td><h3>B00836202</h3></td>\n",
        "</tr>\n",
        "</table>"
      ]
    },
    {
      "cell_type": "code",
      "metadata": {
        "id": "H7uGwHeQ4hRu",
        "colab_type": "code",
        "colab": {}
      },
      "source": [
        "import pandas as pd\n",
        "import numpy as np\n",
        "import matplotlib.pyplot as plt\n",
        "from mpl_toolkits.mplot3d import Axes3D\n",
        "from sklearn import decomposition\n",
        "from sklearn import datasets\n",
        "from sklearn.preprocessing import StandardScaler\n",
        "import torch\n",
        "import torchvision\n",
        "from time import time\n",
        "from torchvision import datasets, transforms\n",
        "from torch import nn, optim\n",
        "import torch.nn.functional as F\n",
        "import math"
      ],
      "execution_count": 0,
      "outputs": []
    },
    {
      "cell_type": "markdown",
      "metadata": {
        "id": "TAjCTsET0YE_",
        "colab_type": "text"
      },
      "source": [
        "# Q a)"
      ]
    },
    {
      "cell_type": "code",
      "metadata": {
        "id": "F-_Vuwos4xQ4",
        "colab_type": "code",
        "colab": {}
      },
      "source": [
        "df=pd.read_csv('sample_data/iris.data',names=['sepal length','sepal width','petal length','petal width','target'])"
      ],
      "execution_count": 0,
      "outputs": []
    },
    {
      "cell_type": "code",
      "metadata": {
        "id": "hMbGLDC1FLgy",
        "colab_type": "code",
        "outputId": "d3d1a399-9f41-4c3b-8ff3-f52f99d3c7dc",
        "colab": {
          "base_uri": "https://localhost:8080/",
          "height": 419
        }
      },
      "source": [
        "df"
      ],
      "execution_count": 0,
      "outputs": [
        {
          "output_type": "execute_result",
          "data": {
            "text/html": [
              "<div>\n",
              "<style scoped>\n",
              "    .dataframe tbody tr th:only-of-type {\n",
              "        vertical-align: middle;\n",
              "    }\n",
              "\n",
              "    .dataframe tbody tr th {\n",
              "        vertical-align: top;\n",
              "    }\n",
              "\n",
              "    .dataframe thead th {\n",
              "        text-align: right;\n",
              "    }\n",
              "</style>\n",
              "<table border=\"1\" class=\"dataframe\">\n",
              "  <thead>\n",
              "    <tr style=\"text-align: right;\">\n",
              "      <th></th>\n",
              "      <th>sepal length</th>\n",
              "      <th>sepal width</th>\n",
              "      <th>petal length</th>\n",
              "      <th>petal width</th>\n",
              "      <th>target</th>\n",
              "    </tr>\n",
              "  </thead>\n",
              "  <tbody>\n",
              "    <tr>\n",
              "      <th>0</th>\n",
              "      <td>5.1</td>\n",
              "      <td>3.5</td>\n",
              "      <td>1.4</td>\n",
              "      <td>0.2</td>\n",
              "      <td>Iris-setosa</td>\n",
              "    </tr>\n",
              "    <tr>\n",
              "      <th>1</th>\n",
              "      <td>4.9</td>\n",
              "      <td>3.0</td>\n",
              "      <td>1.4</td>\n",
              "      <td>0.2</td>\n",
              "      <td>Iris-setosa</td>\n",
              "    </tr>\n",
              "    <tr>\n",
              "      <th>2</th>\n",
              "      <td>4.7</td>\n",
              "      <td>3.2</td>\n",
              "      <td>1.3</td>\n",
              "      <td>0.2</td>\n",
              "      <td>Iris-setosa</td>\n",
              "    </tr>\n",
              "    <tr>\n",
              "      <th>3</th>\n",
              "      <td>4.6</td>\n",
              "      <td>3.1</td>\n",
              "      <td>1.5</td>\n",
              "      <td>0.2</td>\n",
              "      <td>Iris-setosa</td>\n",
              "    </tr>\n",
              "    <tr>\n",
              "      <th>4</th>\n",
              "      <td>5.0</td>\n",
              "      <td>3.6</td>\n",
              "      <td>1.4</td>\n",
              "      <td>0.2</td>\n",
              "      <td>Iris-setosa</td>\n",
              "    </tr>\n",
              "    <tr>\n",
              "      <th>...</th>\n",
              "      <td>...</td>\n",
              "      <td>...</td>\n",
              "      <td>...</td>\n",
              "      <td>...</td>\n",
              "      <td>...</td>\n",
              "    </tr>\n",
              "    <tr>\n",
              "      <th>145</th>\n",
              "      <td>6.7</td>\n",
              "      <td>3.0</td>\n",
              "      <td>5.2</td>\n",
              "      <td>2.3</td>\n",
              "      <td>Iris-virginica</td>\n",
              "    </tr>\n",
              "    <tr>\n",
              "      <th>146</th>\n",
              "      <td>6.3</td>\n",
              "      <td>2.5</td>\n",
              "      <td>5.0</td>\n",
              "      <td>1.9</td>\n",
              "      <td>Iris-virginica</td>\n",
              "    </tr>\n",
              "    <tr>\n",
              "      <th>147</th>\n",
              "      <td>6.5</td>\n",
              "      <td>3.0</td>\n",
              "      <td>5.2</td>\n",
              "      <td>2.0</td>\n",
              "      <td>Iris-virginica</td>\n",
              "    </tr>\n",
              "    <tr>\n",
              "      <th>148</th>\n",
              "      <td>6.2</td>\n",
              "      <td>3.4</td>\n",
              "      <td>5.4</td>\n",
              "      <td>2.3</td>\n",
              "      <td>Iris-virginica</td>\n",
              "    </tr>\n",
              "    <tr>\n",
              "      <th>149</th>\n",
              "      <td>5.9</td>\n",
              "      <td>3.0</td>\n",
              "      <td>5.1</td>\n",
              "      <td>1.8</td>\n",
              "      <td>Iris-virginica</td>\n",
              "    </tr>\n",
              "  </tbody>\n",
              "</table>\n",
              "<p>150 rows × 5 columns</p>\n",
              "</div>"
            ],
            "text/plain": [
              "     sepal length  sepal width  petal length  petal width          target\n",
              "0             5.1          3.5           1.4          0.2     Iris-setosa\n",
              "1             4.9          3.0           1.4          0.2     Iris-setosa\n",
              "2             4.7          3.2           1.3          0.2     Iris-setosa\n",
              "3             4.6          3.1           1.5          0.2     Iris-setosa\n",
              "4             5.0          3.6           1.4          0.2     Iris-setosa\n",
              "..            ...          ...           ...          ...             ...\n",
              "145           6.7          3.0           5.2          2.3  Iris-virginica\n",
              "146           6.3          2.5           5.0          1.9  Iris-virginica\n",
              "147           6.5          3.0           5.2          2.0  Iris-virginica\n",
              "148           6.2          3.4           5.4          2.3  Iris-virginica\n",
              "149           5.9          3.0           5.1          1.8  Iris-virginica\n",
              "\n",
              "[150 rows x 5 columns]"
            ]
          },
          "metadata": {
            "tags": []
          },
          "execution_count": 3
        }
      ]
    },
    {
      "cell_type": "code",
      "metadata": {
        "id": "p25DgBqpCHtH",
        "colab_type": "code",
        "colab": {}
      },
      "source": [
        "features = ['sepal length', 'sepal width', 'petal length', 'petal width']\n",
        "\n",
        "x = df.loc[:, features].values\n",
        "\n",
        "y = df.loc[:,['target']].values\n",
        "\n",
        "scaler=StandardScaler()\n",
        "x = scaler.fit_transform(x)\n"
      ],
      "execution_count": 0,
      "outputs": []
    },
    {
      "cell_type": "code",
      "metadata": {
        "id": "HdrEkRlFNoBq",
        "colab_type": "code",
        "outputId": "c2f8e1e2-a567-4b3d-f2c3-27eb6be2752d",
        "colab": {
          "base_uri": "https://localhost:8080/",
          "height": 34
        }
      },
      "source": [
        "x.shape"
      ],
      "execution_count": 0,
      "outputs": [
        {
          "output_type": "execute_result",
          "data": {
            "text/plain": [
              "(150, 4)"
            ]
          },
          "metadata": {
            "tags": []
          },
          "execution_count": 5
        }
      ]
    },
    {
      "cell_type": "code",
      "metadata": {
        "id": "QbFfkvenCcZF",
        "colab_type": "code",
        "colab": {}
      },
      "source": [
        "pca=decomposition.PCA(n_components=4)"
      ],
      "execution_count": 0,
      "outputs": []
    },
    {
      "cell_type": "code",
      "metadata": {
        "id": "D0zbQeiRCdBJ",
        "colab_type": "code",
        "colab": {}
      },
      "source": [
        "principalComponents=pca.fit_transform(x)"
      ],
      "execution_count": 0,
      "outputs": []
    },
    {
      "cell_type": "code",
      "metadata": {
        "id": "a3xyxuVPCxwS",
        "colab_type": "code",
        "colab": {}
      },
      "source": [
        "principalDf = pd.DataFrame(data = principalComponents\n",
        "             , columns = ['principal component 1', 'principal component 2','principal component 3','principal component 4'])"
      ],
      "execution_count": 0,
      "outputs": []
    },
    {
      "cell_type": "code",
      "metadata": {
        "id": "n7jaeV67C0Mu",
        "colab_type": "code",
        "outputId": "157e09d6-a92f-4184-e13f-be1cc669af97",
        "colab": {
          "base_uri": "https://localhost:8080/",
          "height": 419
        }
      },
      "source": [
        "principalDf[['principal component 1', 'principal component 2']]"
      ],
      "execution_count": 0,
      "outputs": [
        {
          "output_type": "execute_result",
          "data": {
            "text/html": [
              "<div>\n",
              "<style scoped>\n",
              "    .dataframe tbody tr th:only-of-type {\n",
              "        vertical-align: middle;\n",
              "    }\n",
              "\n",
              "    .dataframe tbody tr th {\n",
              "        vertical-align: top;\n",
              "    }\n",
              "\n",
              "    .dataframe thead th {\n",
              "        text-align: right;\n",
              "    }\n",
              "</style>\n",
              "<table border=\"1\" class=\"dataframe\">\n",
              "  <thead>\n",
              "    <tr style=\"text-align: right;\">\n",
              "      <th></th>\n",
              "      <th>principal component 1</th>\n",
              "      <th>principal component 2</th>\n",
              "    </tr>\n",
              "  </thead>\n",
              "  <tbody>\n",
              "    <tr>\n",
              "      <th>0</th>\n",
              "      <td>-2.264542</td>\n",
              "      <td>0.505704</td>\n",
              "    </tr>\n",
              "    <tr>\n",
              "      <th>1</th>\n",
              "      <td>-2.086426</td>\n",
              "      <td>-0.655405</td>\n",
              "    </tr>\n",
              "    <tr>\n",
              "      <th>2</th>\n",
              "      <td>-2.367950</td>\n",
              "      <td>-0.318477</td>\n",
              "    </tr>\n",
              "    <tr>\n",
              "      <th>3</th>\n",
              "      <td>-2.304197</td>\n",
              "      <td>-0.575368</td>\n",
              "    </tr>\n",
              "    <tr>\n",
              "      <th>4</th>\n",
              "      <td>-2.388777</td>\n",
              "      <td>0.674767</td>\n",
              "    </tr>\n",
              "    <tr>\n",
              "      <th>...</th>\n",
              "      <td>...</td>\n",
              "      <td>...</td>\n",
              "    </tr>\n",
              "    <tr>\n",
              "      <th>145</th>\n",
              "      <td>1.870522</td>\n",
              "      <td>0.382822</td>\n",
              "    </tr>\n",
              "    <tr>\n",
              "      <th>146</th>\n",
              "      <td>1.558492</td>\n",
              "      <td>-0.905314</td>\n",
              "    </tr>\n",
              "    <tr>\n",
              "      <th>147</th>\n",
              "      <td>1.520845</td>\n",
              "      <td>0.266795</td>\n",
              "    </tr>\n",
              "    <tr>\n",
              "      <th>148</th>\n",
              "      <td>1.376391</td>\n",
              "      <td>1.016362</td>\n",
              "    </tr>\n",
              "    <tr>\n",
              "      <th>149</th>\n",
              "      <td>0.959299</td>\n",
              "      <td>-0.022284</td>\n",
              "    </tr>\n",
              "  </tbody>\n",
              "</table>\n",
              "<p>150 rows × 2 columns</p>\n",
              "</div>"
            ],
            "text/plain": [
              "     principal component 1  principal component 2\n",
              "0                -2.264542               0.505704\n",
              "1                -2.086426              -0.655405\n",
              "2                -2.367950              -0.318477\n",
              "3                -2.304197              -0.575368\n",
              "4                -2.388777               0.674767\n",
              "..                     ...                    ...\n",
              "145               1.870522               0.382822\n",
              "146               1.558492              -0.905314\n",
              "147               1.520845               0.266795\n",
              "148               1.376391               1.016362\n",
              "149               0.959299              -0.022284\n",
              "\n",
              "[150 rows x 2 columns]"
            ]
          },
          "metadata": {
            "tags": []
          },
          "execution_count": 9
        }
      ]
    },
    {
      "cell_type": "code",
      "metadata": {
        "id": "sIq4ioh1zJQM",
        "colab_type": "code",
        "outputId": "151636a7-3495-41e5-c937-2080d5f3bf65",
        "colab": {
          "base_uri": "https://localhost:8080/",
          "height": 419
        }
      },
      "source": [
        "principalDf[['principal component 3', 'principal component 4']]"
      ],
      "execution_count": 0,
      "outputs": [
        {
          "output_type": "execute_result",
          "data": {
            "text/html": [
              "<div>\n",
              "<style scoped>\n",
              "    .dataframe tbody tr th:only-of-type {\n",
              "        vertical-align: middle;\n",
              "    }\n",
              "\n",
              "    .dataframe tbody tr th {\n",
              "        vertical-align: top;\n",
              "    }\n",
              "\n",
              "    .dataframe thead th {\n",
              "        text-align: right;\n",
              "    }\n",
              "</style>\n",
              "<table border=\"1\" class=\"dataframe\">\n",
              "  <thead>\n",
              "    <tr style=\"text-align: right;\">\n",
              "      <th></th>\n",
              "      <th>principal component 3</th>\n",
              "      <th>principal component 4</th>\n",
              "    </tr>\n",
              "  </thead>\n",
              "  <tbody>\n",
              "    <tr>\n",
              "      <th>0</th>\n",
              "      <td>-0.121943</td>\n",
              "      <td>-0.023073</td>\n",
              "    </tr>\n",
              "    <tr>\n",
              "      <th>1</th>\n",
              "      <td>-0.227251</td>\n",
              "      <td>-0.103208</td>\n",
              "    </tr>\n",
              "    <tr>\n",
              "      <th>2</th>\n",
              "      <td>0.051480</td>\n",
              "      <td>-0.027825</td>\n",
              "    </tr>\n",
              "    <tr>\n",
              "      <th>3</th>\n",
              "      <td>0.098860</td>\n",
              "      <td>0.066311</td>\n",
              "    </tr>\n",
              "    <tr>\n",
              "      <th>4</th>\n",
              "      <td>0.021428</td>\n",
              "      <td>0.037397</td>\n",
              "    </tr>\n",
              "    <tr>\n",
              "      <th>...</th>\n",
              "      <td>...</td>\n",
              "      <td>...</td>\n",
              "    </tr>\n",
              "    <tr>\n",
              "      <th>145</th>\n",
              "      <td>0.254532</td>\n",
              "      <td>-0.388890</td>\n",
              "    </tr>\n",
              "    <tr>\n",
              "      <th>146</th>\n",
              "      <td>-0.025382</td>\n",
              "      <td>-0.221322</td>\n",
              "    </tr>\n",
              "    <tr>\n",
              "      <th>147</th>\n",
              "      <td>0.179277</td>\n",
              "      <td>-0.118903</td>\n",
              "    </tr>\n",
              "    <tr>\n",
              "      <th>148</th>\n",
              "      <td>0.931405</td>\n",
              "      <td>-0.024146</td>\n",
              "    </tr>\n",
              "    <tr>\n",
              "      <th>149</th>\n",
              "      <td>0.528794</td>\n",
              "      <td>0.163676</td>\n",
              "    </tr>\n",
              "  </tbody>\n",
              "</table>\n",
              "<p>150 rows × 2 columns</p>\n",
              "</div>"
            ],
            "text/plain": [
              "     principal component 3  principal component 4\n",
              "0                -0.121943              -0.023073\n",
              "1                -0.227251              -0.103208\n",
              "2                 0.051480              -0.027825\n",
              "3                 0.098860               0.066311\n",
              "4                 0.021428               0.037397\n",
              "..                     ...                    ...\n",
              "145               0.254532              -0.388890\n",
              "146              -0.025382              -0.221322\n",
              "147               0.179277              -0.118903\n",
              "148               0.931405              -0.024146\n",
              "149               0.528794               0.163676\n",
              "\n",
              "[150 rows x 2 columns]"
            ]
          },
          "metadata": {
            "tags": []
          },
          "execution_count": 10
        }
      ]
    },
    {
      "cell_type": "code",
      "metadata": {
        "id": "NOsOt1DnC3AY",
        "colab_type": "code",
        "colab": {}
      },
      "source": [
        "finalDf_first_2 = pd.concat([principalDf[['principal component 1', 'principal component 2']], df[['target']]], axis = 1)\n",
        "finalDf_last_2 = pd.concat([principalDf[['principal component 3', 'principal component 4']], df[['target']]], axis = 1)"
      ],
      "execution_count": 0,
      "outputs": []
    },
    {
      "cell_type": "markdown",
      "metadata": {
        "id": "IGS3MkXd0mli",
        "colab_type": "text"
      },
      "source": [
        "# Q a) i)"
      ]
    },
    {
      "cell_type": "code",
      "metadata": {
        "id": "SQNaEJmZC9KT",
        "colab_type": "code",
        "outputId": "63f9306d-cd36-4e7f-cade-951de4ca0857",
        "colab": {
          "base_uri": "https://localhost:8080/",
          "height": 523
        }
      },
      "source": [
        "fig = plt.figure(figsize = (8,8))\n",
        "ax = fig.add_subplot(1,1,1) \n",
        "ax.set_xlabel('Principal Component 1', fontsize = 15)\n",
        "ax.set_ylabel('Principal Component 2', fontsize = 15)\n",
        "ax.set_title('First 2 component PCA', fontsize = 20)\n",
        "targets = ['Iris-setosa', 'Iris-versicolor', 'Iris-virginica']\n",
        "colors = ['r', 'g', 'b']\n",
        "for target, color in zip(targets,colors):\n",
        "    indicesToKeep = finalDf_first_2['target'] == target\n",
        "    ax.scatter(finalDf_first_2.loc[indicesToKeep, 'principal component 1']\n",
        "               , finalDf_first_2.loc[indicesToKeep, 'principal component 2']\n",
        "               , c = color\n",
        "               , s = 50)\n",
        "ax.legend(targets)\n",
        "ax.grid()"
      ],
      "execution_count": 0,
      "outputs": [
        {
          "output_type": "display_data",
          "data": {
            "image/png": "[encoded data removed]",
            "text/plain": [
              "<Figure size 576x576 with 1 Axes>"
            ]
          },
          "metadata": {
            "tags": []
          }
        }
      ]
    },
    {
      "cell_type": "markdown",
      "metadata": {
        "id": "8o348Dxj0o4V",
        "colab_type": "text"
      },
      "source": [
        "# Q a) ii)"
      ]
    },
    {
      "cell_type": "code",
      "metadata": {
        "id": "HMIB8WJEXQ1E",
        "colab_type": "code",
        "outputId": "6fddd403-bcbe-420d-f2a2-fdc40bb185d1",
        "colab": {
          "base_uri": "https://localhost:8080/",
          "height": 523
        }
      },
      "source": [
        "fig = plt.figure(figsize = (8,8))\n",
        "ax = fig.add_subplot(1,1,1) \n",
        "ax.set_xlabel('Principal Component 3', fontsize = 15)\n",
        "ax.set_ylabel('Principal Component 4', fontsize = 15)\n",
        "ax.set_title('Last 2 component PCA', fontsize = 20)\n",
        "targets = ['Iris-setosa', 'Iris-versicolor', 'Iris-virginica']\n",
        "colors = ['r', 'g', 'b']\n",
        "for target, color in zip(targets,colors):\n",
        "    indicesToKeep = finalDf_last_2['target'] == target\n",
        "    ax.scatter(finalDf_last_2.loc[indicesToKeep, 'principal component 3']\n",
        "               , finalDf_last_2.loc[indicesToKeep, 'principal component 4']\n",
        "               , c = color\n",
        "               , s = 50)\n",
        "ax.legend(targets)\n",
        "ax.grid()"
      ],
      "execution_count": 0,
      "outputs": [
        {
          "output_type": "display_data",
          "data": {
            "image/png": "[encoded data removed]",
            "text/plain": [
              "<Figure size 576x576 with 1 Axes>"
            ]
          },
          "metadata": {
            "tags": []
          }
        }
      ]
    },
    {
      "cell_type": "code",
      "metadata": {
        "id": "CxLyOMI_DFbz",
        "colab_type": "code",
        "outputId": "3b4e04a4-a137-44d7-a648-86fe08d14a29",
        "colab": {
          "base_uri": "https://localhost:8080/",
          "height": 97
        }
      },
      "source": [
        "variances=np.around((pca.explained_variance_ratio_*100),2)\n",
        "principals=['Principal {}'.format(i) for i in range(1,5)]\n",
        "\n",
        "data=[variances]\n",
        "\n",
        "final_op=pd.DataFrame(data, columns=principals)\n",
        "print('Varaince stored in each component')\n",
        "final_op"
      ],
      "execution_count": 0,
      "outputs": [
        {
          "output_type": "stream",
          "text": [
            "Varaince stored in each component\n"
          ],
          "name": "stdout"
        },
        {
          "output_type": "execute_result",
          "data": {
            "text/html": [
              "<div>\n",
              "<style scoped>\n",
              "    .dataframe tbody tr th:only-of-type {\n",
              "        vertical-align: middle;\n",
              "    }\n",
              "\n",
              "    .dataframe tbody tr th {\n",
              "        vertical-align: top;\n",
              "    }\n",
              "\n",
              "    .dataframe thead th {\n",
              "        text-align: right;\n",
              "    }\n",
              "</style>\n",
              "<table border=\"1\" class=\"dataframe\">\n",
              "  <thead>\n",
              "    <tr style=\"text-align: right;\">\n",
              "      <th></th>\n",
              "      <th>Principal 1</th>\n",
              "      <th>Principal 2</th>\n",
              "      <th>Principal 3</th>\n",
              "      <th>Principal 4</th>\n",
              "    </tr>\n",
              "  </thead>\n",
              "  <tbody>\n",
              "    <tr>\n",
              "      <th>0</th>\n",
              "      <td>72.77</td>\n",
              "      <td>23.03</td>\n",
              "      <td>3.68</td>\n",
              "      <td>0.52</td>\n",
              "    </tr>\n",
              "  </tbody>\n",
              "</table>\n",
              "</div>"
            ],
            "text/plain": [
              "   Principal 1  Principal 2  Principal 3  Principal 4\n",
              "0        72.77        23.03         3.68         0.52"
            ]
          },
          "metadata": {
            "tags": []
          },
          "execution_count": 14
        }
      ]
    },
    {
      "cell_type": "markdown",
      "metadata": {
        "id": "YgUKPaD_FgLG",
        "colab_type": "text"
      },
      "source": [
        "## The above cell shows the almost 95% of information(variance) is stored in the first two principal component of the iris dataset. "
      ]
    },
    {
      "cell_type": "markdown",
      "metadata": {
        "id": "jSBXgVki1Yg4",
        "colab_type": "text"
      },
      "source": [
        "## The function createBatches is used to create the batches (both data and labels) of in the dataset."
      ]
    },
    {
      "cell_type": "code",
      "metadata": {
        "id": "mKIvI60ma7fP",
        "colab_type": "code",
        "colab": {}
      },
      "source": [
        "def createBatches(data, labels, batch_size=1):\n",
        "  full_dataset=[]\n",
        "  full_labels=[]\n",
        "  for i in range(0,data.shape[0],batch_size):\n",
        "    batch=torch.tensor(data[i:i+batch_size],dtype=torch.float32).clone().detach()\n",
        "    batch=batch.reshape(-1,1, *data.shape[1:])\n",
        "    batch_labels=labels[i:i+batch_size]\n",
        "    full_dataset.append((batch, batch_labels))\n",
        "  return full_dataset"
      ],
      "execution_count": 0,
      "outputs": []
    },
    {
      "cell_type": "markdown",
      "metadata": {
        "id": "6NetEv4pOBND",
        "colab_type": "text"
      },
      "source": [
        "## The function createBatches is used to plot the bar charts for the training and test accuracies"
      ]
    },
    {
      "cell_type": "code",
      "metadata": {
        "id": "a1APiZbSN_nS",
        "colab_type": "code",
        "colab": {}
      },
      "source": [
        "def plot_bar_graphs(train_acc, test_acc, title):\n",
        "  labels = train_acc[0]\n",
        "  train_accs = train_acc[1]\n",
        "  test_accs = test_acc[1]\n",
        "\n",
        "  x = np.arange(len(labels))  # the label locations\n",
        "  width = 0.35  # the width of the bars\n",
        "\n",
        "  # fig=plt.figure(figsize=(10,10))\n",
        "  fig, ax = plt.subplots()\n",
        "  rects1 = ax.bar(x - width/2, train_accs, width, label='Train')\n",
        "  rects2 = ax.bar(x + width/2, test_accs, width, label='Test')\n",
        "\n",
        "  # Add some text for labels, title and custom x-axis tick labels, etc.\n",
        "  ax.set_ylabel('Accuracy')\n",
        "  ax.set_xlabel('Variance')\n",
        "  ax.set_title('Scores by variance')\n",
        "  ax.set_xticks(x)\n",
        "  ax.set_xticklabels(labels)\n",
        "  ax.legend()\n",
        "\n",
        "\n",
        "  def autolabel(rects):\n",
        "      \"\"\"Attach a text label above each bar in *rects*, displaying its height.\"\"\"\n",
        "      for rect in rects:\n",
        "          height = rect.get_height()\n",
        "          ax.annotate('{}'.format(height),\n",
        "                      xy=(rect.get_x() + rect.get_width() / 2, height),\n",
        "                      xytext=(0, 3),  # 3 points vertical offset\n",
        "                      textcoords=\"offset points\",\n",
        "                      ha='center', va='bottom')\n",
        "\n",
        "\n",
        "  autolabel(rects1)\n",
        "  autolabel(rects2)\n",
        "\n",
        "  # fig.tight_layout()\n",
        "  plt.title(title)\n",
        "  plt.show()"
      ],
      "execution_count": 0,
      "outputs": []
    },
    {
      "cell_type": "markdown",
      "metadata": {
        "id": "sL4XVbkr12b2",
        "colab_type": "text"
      },
      "source": [
        "# Q2"
      ]
    },
    {
      "cell_type": "markdown",
      "metadata": {
        "id": "r6qeIgPG15gl",
        "colab_type": "text"
      },
      "source": [
        "### The class FeedForwardNet is the simple neural network with one hidden layer.\n",
        "\n",
        "### The class CNN is the modified version of the class provided in assignment 3 for performing the image classification"
      ]
    },
    {
      "cell_type": "code",
      "metadata": {
        "colab_type": "code",
        "id": "uD_cuOrMIwSE",
        "colab": {}
      },
      "source": [
        "class FeedForwardNet(nn.Module):\n",
        "  def __init__(self, input_size = 331, hidden_size = 64, output_size = 10):\n",
        "    super(FeedForwardNet, self).__init__()\n",
        "    self.l1 = nn.Linear(input_size, hidden_size)\n",
        "    self.out = nn.Linear(hidden_size, output_size)\n",
        "\n",
        "  def forward(self, x):\n",
        "    x = F.relu(self.l1(x))\n",
        "    x = F.log_softmax(self.out(x), dim=1)\n",
        "    return x\n",
        "\n",
        "class CNN(nn.Module):\n",
        "  def __init__(self, input_size=[28,28], hidden_sizes=[120, 84], filter_size = 3, pooling_size = 2):\n",
        "    super(CNN, self).__init__()\n",
        "    self.conv1 = nn.Conv2d(1, 6, 3)\n",
        "    self.pool = nn.MaxPool2d(2, 2)\n",
        "    reduced_conv1 = ((28 - filter_size) / 1) + 1\n",
        "    reduced_pool = math.floor(\n",
        "        ((reduced_conv1 - pooling_size) / 2) + 1)\n",
        "    reduced_conv2 = ((reduced_pool - filter_size) / 1) + 1\n",
        "    reduced_pool=math.floor(\n",
        "        ((reduced_conv2 - pooling_size) / 2) + 1)\n",
        "    self.conv2 = nn.Conv2d(6, 16, 3)\n",
        "    self.fc1 = nn.Linear(16 * reduced_pool * reduced_pool, 120)\n",
        "    self.fc2 = nn.Linear(hidden_sizes[0], hidden_sizes[1])\n",
        "    self.fc3 = nn.Linear(hidden_sizes[1], 10)\n",
        "\n",
        "  def forward(self, x):\n",
        "    x = self.pool(F.relu(self.conv1(x)))\n",
        "    x = self.pool(F.relu(self.conv2(x)))\n",
        "    x = x.view(-1, 16 * x.size()[2]  * x.size()[2])\n",
        "    x = F.relu(self.fc1(x))\n",
        "    x = F.relu(self.fc2(x))\n",
        "    x = F.log_softmax(self.fc3(x), dim=1)\n",
        "    return x  "
      ],
      "execution_count": 0,
      "outputs": []
    },
    {
      "cell_type": "markdown",
      "metadata": {
        "id": "9LVqwnR-2s8G",
        "colab_type": "text"
      },
      "source": [
        "## The function eval_net_simple is the utility function is used to train the FeedForwardNet required in the **`Q b: i).`**\n"
      ]
    },
    {
      "cell_type": "code",
      "metadata": {
        "id": "bu0XuzAnPNMo",
        "colab_type": "code",
        "colab": {}
      },
      "source": [
        "def eval_net_simple(epochs, train_loader, test_loader):\n",
        "  ##### Prepare return values ##################################################\n",
        "  losses = []\n",
        "  train_acc = 0\n",
        "  test_acc = 0\n",
        "\n",
        "  ##### Initialize the network and optimizer ###################################\n",
        "\n",
        "  print(\"\\nInitializing the simple neural network ...\")\n",
        "\n",
        "  # print(train_loader[0][0].shape[-1])\n",
        "  input_size=train_loader[0][0].shape[-1]\n",
        "  hidden_size=input_size/2.5\n",
        "\n",
        "  net = FeedForwardNet(input_size=input_size, hidden_size=int(hidden_size))\n",
        "  net.cuda()\n",
        "\n",
        "  criterion = nn.CrossEntropyLoss()\n",
        "  optimizer = optim.Adam(net.parameters(), lr=0.001) # lr = learning rate/step size\n",
        "\n",
        "  ##### Training the network ###################################################\n",
        "\n",
        "  print(\"Training the network ...\")\n",
        "  for e in range(epochs):  # loop over the dataset multiple times\n",
        "    print(\"Epoch: \", e+1)\n",
        "    for data in train_loader:\n",
        "      inputs, labels = data\n",
        "      inputs=inputs.cuda()\n",
        "      labels=labels.cuda()\n",
        "      optimizer.zero_grad() # zero the parameter gradients\n",
        "      inputs=inputs.view(inputs.shape[0],-1)\n",
        "      # print(inputs.shape)\n",
        "      outputs = net(inputs) # forward pass\n",
        "      loss = criterion(outputs, labels) # compute loss\n",
        "      loss.backward() # backward pass\n",
        "      optimizer.step() # gradient descent update\n",
        "      losses.append(loss.item())\n",
        "\n",
        "  ##### Evaluating the network on training data ################################\n",
        "  print(\"Evaluating on training data ...\")\n",
        "  correct = 0\n",
        "  total = 0\n",
        "  with torch.no_grad():\n",
        "    for data in train_loader:\n",
        "      inputs, labels = data\n",
        "      inputs=inputs.cuda()\n",
        "      labels=labels.cuda()\n",
        "      inputs=inputs.view(inputs.shape[0],-1)\n",
        "      outputs = net(inputs)\n",
        "      _, predicted = torch.max(outputs.data, 1)\n",
        "      total += labels.size(0)\n",
        "      correct += (predicted == labels).sum().item()\n",
        "  train_acc = correct / total\n",
        "\n",
        "  ##### Evaluating the network on test data ####################################\n",
        "  print(\"Evaluating on test data ...\")\n",
        "  correct = 0\n",
        "  total = 0\n",
        "  with torch.no_grad():\n",
        "    for data in test_loader:\n",
        "      inputs, labels = data\n",
        "      inputs=inputs.cuda()\n",
        "      labels=labels.cuda()\n",
        "      inputs=inputs.view(inputs.shape[0],-1)\n",
        "      outputs = net(inputs)\n",
        "      _, predicted = torch.max(outputs.data, 1)\n",
        "      total += labels.size(0)\n",
        "      correct += (predicted == labels).sum().item()\n",
        "  test_acc = correct / total\n",
        "\n",
        "  return losses, train_acc, test_acc"
      ],
      "execution_count": 0,
      "outputs": []
    },
    {
      "cell_type": "markdown",
      "metadata": {
        "id": "6MLcQJ493OJE",
        "colab_type": "text"
      },
      "source": [
        "## The function eval_net_cnn is the utility function is used to train the FeedForwardNet required in the **`Q b: ii).`**\n"
      ]
    },
    {
      "cell_type": "code",
      "metadata": {
        "id": "aBKjLnLGTXb_",
        "colab_type": "code",
        "colab": {}
      },
      "source": [
        "def eval_net_cnn(epochs,  train_loader, test_loader):\n",
        "\n",
        "  ##### Prepare return values ##################################################\n",
        "  losses = []\n",
        "  train_acc = 0\n",
        "  test_acc = 0\n",
        "\n",
        "  ##### Initialize the network and optimizer ###################################\n",
        "\n",
        "  print(\"\\nInitializing the convolutional neural network ...\")\n",
        "\n",
        "  net = CNN()\n",
        "  net.cuda()\n",
        "\n",
        "  criterion = nn.CrossEntropyLoss()\n",
        "  optimizer = optim.Adam(net.parameters(), lr=0.001)\n",
        "\n",
        "  ##### Training the network ###################################################\n",
        "\n",
        "  print(\"Training the network ...\")\n",
        "  for e in range(epochs):  # loop over the dataset multiple times\n",
        "    print(\"Epoch: \", e+1)\n",
        "    for data in train_loader:\n",
        "      inputs, labels = data\n",
        "      inputs=inputs.cuda()\n",
        "      labels=labels.cuda()\n",
        "      optimizer.zero_grad()\n",
        "      outputs = net(inputs)\n",
        "      loss = criterion(outputs, labels) # compute loss\n",
        "      loss.backward(retain_graph=True) # backward pass\n",
        "      optimizer.step() # gradient descent update\n",
        "      losses.append(loss.item())\n",
        "\n",
        "  ##### Evaluating the network on training data ################################\n",
        "  print(\"Evaluating on training data ...\")\n",
        "  correct = 0\n",
        "  total = 0\n",
        "  with torch.no_grad():\n",
        "    for data in train_loader:\n",
        "      inputs, labels = data\n",
        "      inputs=inputs.cuda()\n",
        "      labels=labels.cuda()\n",
        "      outputs = net(inputs)\n",
        "      _, predicted = torch.max(outputs.data, 1)\n",
        "      # print(labels.shape, predicted.shape, outputs.shape)\n",
        "      total += labels.size(0)\n",
        "      correct += (predicted == labels).sum().item()\n",
        "  train_acc = correct / total\n",
        "\n",
        "  ##### Evaluating the network on test data ####################################\n",
        "  print(\"Evaluating on test data ...\")\n",
        "  correct = 0\n",
        "  total = 0\n",
        "  with torch.no_grad():\n",
        "    for data in test_loader:\n",
        "      inputs, labels = data\n",
        "      inputs=inputs.cuda()\n",
        "      labels=labels.cuda()\n",
        "      outputs = net(inputs)\n",
        "      _, predicted = torch.max(outputs.data, 1)\n",
        "      # print(inputs.shape, labels.shape, predicted.shape, outputs.shape)\n",
        "      total += labels.size(0)\n",
        "      correct += (predicted == labels).sum().item()\n",
        "  test_acc = correct / total\n",
        "\n",
        "  return losses, train_acc, test_acc"
      ],
      "execution_count": 0,
      "outputs": []
    },
    {
      "cell_type": "markdown",
      "metadata": {
        "id": "Hir126rk3Vf8",
        "colab_type": "text"
      },
      "source": [
        "### The below cell performs all the operations required in the **`Q b)`**"
      ]
    },
    {
      "cell_type": "code",
      "metadata": {
        "id": "v24Q1rVEuGzR",
        "colab_type": "code",
        "cellView": "code",
        "outputId": "37346530-e497-435d-b724-76a45e005dfc",
        "colab": {
          "base_uri": "https://localhost:8080/",
          "height": 1000
        }
      },
      "source": [
        "train_set = datasets.MNIST('./mnist_data', download=True, train=True,\n",
        "                            transform=transforms.Compose([\n",
        "                              transforms.ToTensor(),\n",
        "                              transforms.Normalize((0.5,), (0.5,))\n",
        "                            ]))\n",
        "test_set = datasets.MNIST('./mnist_data', download=True, train=False,\n",
        "                            transform=transforms.Compose([\n",
        "                              transforms.ToTensor(),\n",
        "                              transforms.Normalize((0.5,), (0.5,))\n",
        "                            ]))\n",
        "x_train_b = train_set.data.reshape(train_set.data.shape[0],-1)\n",
        "x_test_b = test_set.data.reshape(test_set.data.shape[0],-1)\n",
        "\n",
        "# Creating the numpy object for the above objects\n",
        "x_train_b = x_train_b.numpy()\n",
        "x_test_b = x_test_b.numpy()\n",
        "\n",
        "# print(x_train_b.shape, x_test_b.shape)\n",
        "\n",
        "variances=[50, 75, 90, 95]\n",
        "\n",
        "train_acc_feed_forward=[variances,[]]\n",
        "test_acc_feed_forward=[variances,[]]\n",
        "train_acc_cnn=[variances,[]]\n",
        "test_acc_cnn=[variances,[]]\n",
        "epochs=10\n",
        "for variance in variances:\n",
        "  variance=variance/100\n",
        "  print('\\nStarting PCA for variance = {}'.format(variance))\n",
        "  # Creating Scalar object and scaling the data to a specific range\n",
        "  scalar_b = StandardScaler()\n",
        "  x_train_b_sc = scalar_b.fit_transform(x_train_b)\n",
        "  x_test_b_sc = scalar_b.transform(x_test_b)\n",
        "\n",
        "  # Creating PCA object and getting components which contains \"variance\"% of data\n",
        "  pca_b = decomposition.PCA(variance)\n",
        "  x_train_b_pca = pca_b.fit_transform(x_train_b_sc)\n",
        "  x_test_b_pca = pca_b.transform(x_test_b_sc)\n",
        "\n",
        "  # Printing the number of features received after applying PCA.\n",
        "  print('PCA done successfully.')\n",
        "  print('\\nComponents for variance = {} are {}'.format(variance, x_train_b_pca.shape[-1]))\n",
        "\n",
        "  train_set.data=torch.tensor(x_train_b_pca)\n",
        "  test_set.data=torch.tensor(x_test_b_pca)\n",
        "\n",
        "  trainset=train_set\n",
        "  valset=test_set\n",
        "\n",
        "  batch_size=100\n",
        "  train_loader=createBatches(trainset.data,trainset.targets,batch_size)\n",
        "  test_loader=createBatches(valset.data, valset.targets,batch_size)\n",
        "\n",
        "  losses, train_acc, test_acc = eval_net_simple(epochs,train_loader, test_loader)\n",
        "  print(\"Training accuracy: {}%\".format(round(train_acc*100,2)))\n",
        "  print(\"Test accuracy: {}%\".format(round(test_acc*100,2)))\n",
        "\n",
        "  train_acc_feed_forward[1].append(round(train_acc*100,2))\n",
        "  test_acc_feed_forward[1].append(round(test_acc*100,2))\n",
        "  plt.plot(losses)\n",
        "  plt.title('Loss for Feed Forward Network')\n",
        "  plt.show()\n",
        "\n",
        "  print('Reconstructing the images for train and test data')\n",
        "\n",
        "  reconst_train_imgs = scalar_b.inverse_transform(pca_b.inverse_transform(x_train_b_pca))\n",
        "  shp = reconst_train_imgs[:].shape\n",
        "  reconst_reshaped_train = reconst_train_imgs[:].reshape(shp[0], 28, 28)\n",
        "\n",
        "  reconst_test_imgs = scalar_b.inverse_transform(pca_b.inverse_transform(x_test_b_pca))\n",
        "  shp = reconst_test_imgs[:].shape\n",
        "  reconst_reshaped_test = reconst_test_imgs[:].reshape(shp[0], 28, 28)\n",
        "\n",
        "  # plt.imshow(reconst_reshaped_train[0], cmap='gray')\n",
        "  # plt.title('Sammple of Re-constructed image')\n",
        "  # plt.show()\n",
        "\n",
        "  # plt.imshow(x_train_b[0].reshape(28,28), cmap='gray')\n",
        "  # plt.title('Sample of Actual image')\n",
        "  # plt.show()\n",
        "\n",
        "  trainset.data = reconst_reshaped_train\n",
        "  valset.data = reconst_reshaped_test\n",
        "\n",
        "  train_loader=createBatches(trainset.data,trainset.targets,batch_size)\n",
        "  test_loader=createBatches(valset.data, valset.targets,batch_size)\n",
        "\n",
        "  losses, train_acc, test_acc = eval_net_cnn(epochs, train_loader, test_loader)\n",
        "  print(\"Training accuracy: {}%\".format(round(train_acc*100,2)))\n",
        "  print(\"Test accuracy: {}%\".format(round(test_acc*100,2)))\n",
        "  train_acc_cnn[1].append(round(train_acc*100,2))\n",
        "  test_acc_cnn[1].append(round(test_acc*100,2))\n",
        "\n",
        "  plt.plot(losses)\n",
        "  plt.title('Loss for CNN')\n",
        "  plt.show()\n",
        "\n",
        "plot_bar_graphs(train_acc_feed_forward, test_acc_feed_forward, title=\"Train VS Test on Feed forward\")\n",
        "plot_bar_graphs(train_acc_cnn, test_acc_cnn, title=\"Train VS Test on CNN\")"
      ],
      "execution_count": 0,
      "outputs": [
        {
          "output_type": "stream",
          "text": [
            "\n",
            "Starting PCA for variance = 0.5\n",
            "PCA done successfully.\n",
            "\n",
            "Components for variance = 0.5 are 39\n",
            "\n",
            "Initializing the simple neural network ...\n"
          ],
          "name": "stdout"
        },
        {
          "output_type": "stream",
          "text": [
            "/usr/local/lib/python3.6/dist-packages/ipykernel_launcher.py:5: UserWarning: To copy construct from a tensor, it is recommended to use sourceTensor.clone().detach() or sourceTensor.clone().detach().requires_grad_(True), rather than torch.tensor(sourceTensor).\n",
            "  \"\"\"\n"
          ],
          "name": "stderr"
        },
        {
          "output_type": "stream",
          "text": [
            "Training the network ...\n",
            "Epoch:  1\n",
            "Epoch:  2\n",
            "Epoch:  3\n",
            "Epoch:  4\n",
            "Epoch:  5\n",
            "Epoch:  6\n",
            "Epoch:  7\n",
            "Epoch:  8\n",
            "Epoch:  9\n",
            "Epoch:  10\n",
            "Evaluating on training data ...\n",
            "Evaluating on test data ...\n",
            "Training accuracy: 93.31%\n",
            "Test accuracy: 93.2%\n"
          ],
          "name": "stdout"
        },
        {
          "output_type": "display_data",
          "data": {
            "image/png": "[encoded data removed]",
            "text/plain": [
              "<Figure size 432x288 with 1 Axes>"
            ]
          },
          "metadata": {
            "tags": []
          }
        },
        {
          "output_type": "stream",
          "text": [
            "Reconstructing the images for train and test data\n",
            "\n",
            "Initializing the convolutional neural network ...\n",
            "Training the network ...\n",
            "Epoch:  1\n",
            "Epoch:  2\n",
            "Epoch:  3\n",
            "Epoch:  4\n",
            "Epoch:  5\n",
            "Epoch:  6\n",
            "Epoch:  7\n",
            "Epoch:  8\n",
            "Epoch:  9\n",
            "Epoch:  10\n",
            "Evaluating on training data ...\n",
            "Evaluating on test data ...\n",
            "Training accuracy: 98.34%\n",
            "Test accuracy: 97.36%\n"
          ],
          "name": "stdout"
        },
        {
          "output_type": "display_data",
          "data": {
            "image/png": "[encoded data removed]",
            "text/plain": [
              "<Figure size 432x288 with 1 Axes>"
            ]
          },
          "metadata": {
            "tags": []
          }
        },
        {
          "output_type": "stream",
          "text": [
            "\n",
            "Starting PCA for variance = 0.75\n",
            "PCA done successfully.\n",
            "\n",
            "Components for variance = 0.75 are 120\n"
          ],
          "name": "stdout"
        },
        {
          "output_type": "stream",
          "text": [
            "/usr/local/lib/python3.6/dist-packages/ipykernel_launcher.py:5: UserWarning: To copy construct from a tensor, it is recommended to use sourceTensor.clone().detach() or sourceTensor.clone().detach().requires_grad_(True), rather than torch.tensor(sourceTensor).\n",
            "  \"\"\"\n"
          ],
          "name": "stderr"
        },
        {
          "output_type": "stream",
          "text": [
            "\n",
            "Initializing the simple neural network ...\n",
            "Training the network ...\n",
            "Epoch:  1\n",
            "Epoch:  2\n",
            "Epoch:  3\n",
            "Epoch:  4\n",
            "Epoch:  5\n",
            "Epoch:  6\n",
            "Epoch:  7\n",
            "Epoch:  8\n",
            "Epoch:  9\n",
            "Epoch:  10\n",
            "Evaluating on training data ...\n",
            "Evaluating on test data ...\n",
            "Training accuracy: 98.0%\n",
            "Test accuracy: 96.78%\n"
          ],
          "name": "stdout"
        },
        {
          "output_type": "display_data",
          "data": {
            "image/png": "[encoded data removed]",
            "text/plain": [
              "<Figure size 432x288 with 1 Axes>"
            ]
          },
          "metadata": {
            "tags": []
          }
        },
        {
          "output_type": "stream",
          "text": [
            "Reconstructing the images for train and test data\n",
            "\n",
            "Initializing the convolutional neural network ...\n",
            "Training the network ...\n",
            "Epoch:  1\n",
            "Epoch:  2\n",
            "Epoch:  3\n",
            "Epoch:  4\n",
            "Epoch:  5\n",
            "Epoch:  6\n",
            "Epoch:  7\n",
            "Epoch:  8\n",
            "Epoch:  9\n",
            "Epoch:  10\n",
            "Evaluating on training data ...\n",
            "Evaluating on test data ...\n",
            "Training accuracy: 99.1%\n",
            "Test accuracy: 98.02%\n"
          ],
          "name": "stdout"
        },
        {
          "output_type": "display_data",
          "data": {
            "image/png": "[encoded data removed]",
            "text/plain": [
              "<Figure size 432x288 with 1 Axes>"
            ]
          },
          "metadata": {
            "tags": []
          }
        },
        {
          "output_type": "stream",
          "text": [
            "\n",
            "Starting PCA for variance = 0.9\n",
            "PCA done successfully.\n",
            "\n",
            "Components for variance = 0.9 are 236\n"
          ],
          "name": "stdout"
        },
        {
          "output_type": "stream",
          "text": [
            "/usr/local/lib/python3.6/dist-packages/ipykernel_launcher.py:5: UserWarning: To copy construct from a tensor, it is recommended to use sourceTensor.clone().detach() or sourceTensor.clone().detach().requires_grad_(True), rather than torch.tensor(sourceTensor).\n",
            "  \"\"\"\n"
          ],
          "name": "stderr"
        },
        {
          "output_type": "stream",
          "text": [
            "\n",
            "Initializing the simple neural network ...\n",
            "Training the network ...\n",
            "Epoch:  1\n",
            "Epoch:  2\n",
            "Epoch:  3\n",
            "Epoch:  4\n",
            "Epoch:  5\n",
            "Epoch:  6\n",
            "Epoch:  7\n",
            "Epoch:  8\n",
            "Epoch:  9\n",
            "Epoch:  10\n",
            "Evaluating on training data ...\n",
            "Evaluating on test data ...\n",
            "Training accuracy: 99.31%\n",
            "Test accuracy: 97.13%\n"
          ],
          "name": "stdout"
        },
        {
          "output_type": "display_data",
          "data": {
            "image/png": "[encoded data removed]",
            "text/plain": [
              "<Figure size 432x288 with 1 Axes>"
            ]
          },
          "metadata": {
            "tags": []
          }
        },
        {
          "output_type": "stream",
          "text": [
            "Reconstructing the images for train and test data\n",
            "\n",
            "Initializing the convolutional neural network ...\n",
            "Training the network ...\n",
            "Epoch:  1\n",
            "Epoch:  2\n",
            "Epoch:  3\n",
            "Epoch:  4\n",
            "Epoch:  5\n",
            "Epoch:  6\n",
            "Epoch:  7\n",
            "Epoch:  8\n",
            "Epoch:  9\n",
            "Epoch:  10\n",
            "Evaluating on training data ...\n",
            "Evaluating on test data ...\n",
            "Training accuracy: 99.35%\n",
            "Test accuracy: 98.42%\n"
          ],
          "name": "stdout"
        },
        {
          "output_type": "display_data",
          "data": {
            "image/png": "[encoded data removed]",
            "text/plain": [
              "<Figure size 432x288 with 1 Axes>"
            ]
          },
          "metadata": {
            "tags": []
          }
        },
        {
          "output_type": "stream",
          "text": [
            "\n",
            "Starting PCA for variance = 0.95\n",
            "PCA done successfully.\n",
            "\n",
            "Components for variance = 0.95 are 331\n"
          ],
          "name": "stdout"
        },
        {
          "output_type": "stream",
          "text": [
            "/usr/local/lib/python3.6/dist-packages/ipykernel_launcher.py:5: UserWarning: To copy construct from a tensor, it is recommended to use sourceTensor.clone().detach() or sourceTensor.clone().detach().requires_grad_(True), rather than torch.tensor(sourceTensor).\n",
            "  \"\"\"\n"
          ],
          "name": "stderr"
        },
        {
          "output_type": "stream",
          "text": [
            "\n",
            "Initializing the simple neural network ...\n",
            "Training the network ...\n",
            "Epoch:  1\n",
            "Epoch:  2\n",
            "Epoch:  3\n",
            "Epoch:  4\n",
            "Epoch:  5\n",
            "Epoch:  6\n",
            "Epoch:  7\n",
            "Epoch:  8\n",
            "Epoch:  9\n",
            "Epoch:  10\n",
            "Evaluating on training data ...\n",
            "Evaluating on test data ...\n",
            "Training accuracy: 99.67%\n",
            "Test accuracy: 97.3%\n"
          ],
          "name": "stdout"
        },
        {
          "output_type": "display_data",
          "data": {
            "image/png": "[encoded data removed]",
            "text/plain": [
              "<Figure size 432x288 with 1 Axes>"
            ]
          },
          "metadata": {
            "tags": []
          }
        },
        {
          "output_type": "stream",
          "text": [
            "Reconstructing the images for train and test data\n",
            "\n",
            "Initializing the convolutional neural network ...\n",
            "Training the network ...\n",
            "Epoch:  1\n",
            "Epoch:  2\n",
            "Epoch:  3\n",
            "Epoch:  4\n",
            "Epoch:  5\n",
            "Epoch:  6\n",
            "Epoch:  7\n",
            "Epoch:  8\n",
            "Epoch:  9\n",
            "Epoch:  10\n",
            "Evaluating on training data ...\n",
            "Evaluating on test data ...\n",
            "Training accuracy: 99.03%\n",
            "Test accuracy: 98.22%\n"
          ],
          "name": "stdout"
        },
        {
          "output_type": "display_data",
          "data": {
            "image/png": "[encoded data removed]",
            "text/plain": [
              "<Figure size 432x288 with 1 Axes>"
            ]
          },
          "metadata": {
            "tags": []
          }
        },
        {
          "output_type": "display_data",
          "data": {
            "image/png": "[encoded data removed]",
            "text/plain": [
              "<Figure size 432x288 with 1 Axes>"
            ]
          },
          "metadata": {
            "tags": []
          }
        },
        {
          "output_type": "display_data",
          "data": {
            "image/png": "[encoded data removed]",
            "text/plain": [
              "<Figure size 432x288 with 1 Axes>"
            ]
          },
          "metadata": {
            "tags": []
          }
        }
      ]
    },
    {
      "cell_type": "markdown",
      "metadata": {
        "id": "WoHSRxMTRHur",
        "colab_type": "text"
      },
      "source": [
        "## Observation Q b)\n",
        "### As we can see in the bar graph, Convolutional nural network  performs better than Feed forward neural network.\n",
        "\n",
        "\n",
        "\n",
        "`The accuracy range of feed forward neural network is ~93 - ~99 where CNN has accuracy range of ~98 - ~99 which means feed forward neural network only works better when n_components are less while CNN works in all the conditions and gives consistent accuracy`\n",
        "\n",
        "\n",
        "---"
      ]
    },
    {
      "cell_type": "markdown",
      "metadata": {
        "id": "fBXc7xuNE-tA",
        "colab_type": "text"
      },
      "source": [
        "# Q c) "
      ]
    },
    {
      "cell_type": "markdown",
      "metadata": {
        "id": "b6XGn7UnFOCg",
        "colab_type": "text"
      },
      "source": [
        "## The class LinearAutoEncoder contains the neural network to enocode the vector and reduce it's dimentionality"
      ]
    },
    {
      "cell_type": "code",
      "metadata": {
        "id": "HeagHImIM7vR",
        "colab_type": "code",
        "colab": {}
      },
      "source": [
        "class LinearAutoEncoder(nn.Module):\n",
        "  def __init__(self, input_size = 784, hidden_size = 39):\n",
        "    super(LinearAutoEncoder, self).__init__()\n",
        "    self.l1 = nn.Linear(input_size, hidden_size)\n",
        "    self.out = nn.Linear(hidden_size, input_size)\n",
        "      \n",
        "  def encode(self, x):\n",
        "    x = self.l1(x)\n",
        "    x.reshape(x.shape[0],-1)\n",
        "    return x\n",
        "\n",
        "  def decode(self, x):\n",
        "    x = self.out(x)\n",
        "    x.reshape(x.shape[0],-1)\n",
        "    return x\n",
        "\n",
        "  def forward(self, x):\n",
        "    x = self.encode(x)\n",
        "    x = self.decode(x)\n",
        "    return x"
      ],
      "execution_count": 0,
      "outputs": []
    },
    {
      "cell_type": "markdown",
      "metadata": {
        "id": "1egwyGgzFWgd",
        "colab_type": "text"
      },
      "source": [
        "## The function eval_net_c is built to perform the required operation on the data using in `Q c)`"
      ]
    },
    {
      "cell_type": "code",
      "metadata": {
        "id": "iO-ejhlu0eDY",
        "colab_type": "code",
        "colab": {}
      },
      "source": [
        "def eval_net_c(epochs, hidden_size, train_loader, test_loader):\n",
        "\n",
        "  ##### Prepare return values ##################################################\n",
        "  losses = []\n",
        "  train_acc = 0\n",
        "  test_acc = 0\n",
        "\n",
        "  ##### Initialize the network and optimizer ###################################\n",
        "\n",
        "  print(\"\\nInitializing the Auto encoder-decoder with hidden-size: {} ...\".format(hidden_size))\n",
        "\n",
        "  input_size=train_loader[0][0].shape[-1]\n",
        "\n",
        "  net = LinearAutoEncoder(input_size=input_size, hidden_size=hidden_size)\n",
        "  net.cuda()\n",
        "\n",
        "  criterion = nn.MSELoss()\n",
        "  optimizer = optim.Adam(net.parameters(), lr=0.001) # lr = learning rate/step size\n",
        "\n",
        "  ##### Training the network ###################################################\n",
        "  train_acc_feed_forward=[variances,[]]\n",
        "  test_acc_feed_forward=[variances,[]]\n",
        "  train_acc_cnn=[variances,[]]\n",
        "  test_acc_cnn=[variances,[]]\n",
        "\n",
        "  print(\"Training the network ...\")\n",
        "  for e in range(epochs):  # loop over the dataset multiple times\n",
        "    print(\"Epoch: \", e+1)\n",
        "    for data in train_loader:\n",
        "      inputs, _ = data\n",
        "      labels = inputs\n",
        "      inputs=inputs.cuda()\n",
        "      labels=labels.cuda()\n",
        "      optimizer.zero_grad() # zero the parameter gradients\n",
        "      inputs=inputs.view(inputs.shape[0],-1)\n",
        "      labels=labels.view(labels.shape[0],-1)\n",
        "      outputs = net(inputs) # forward pass\n",
        "      loss = criterion(outputs, labels) # compute loss\n",
        "      loss.backward() # backward pass\n",
        "      optimizer.step() # gradient descent update\n",
        "      losses.append(loss.item())\n",
        "    \n",
        "  encoded_train_batches=[]\n",
        "  encoded_test_batches=[]\n",
        "\n",
        "  for data in train_loader:\n",
        "    inputs, lbls = data\n",
        "    labels = inputs\n",
        "    inputs=inputs.cuda()\n",
        "    labels=labels.cuda()\n",
        "    inputs=inputs.view(inputs.shape[0],-1)\n",
        "    encoded_train_batch=net.encode(inputs)\n",
        "    encoded_train_batches.append((encoded_train_batch,lbls))\n",
        "  \n",
        "  for data in test_loader:\n",
        "    inputs, lbls = data\n",
        "    labels = inputs\n",
        "    inputs=inputs.cuda()\n",
        "    labels=labels.cuda()\n",
        "    inputs=inputs.view(inputs.shape[0],-1)\n",
        "    encoded_test_batch=net.encode(inputs)\n",
        "    encoded_test_batches.append((encoded_test_batch, lbls))\n",
        "\n",
        "  losses_simple, train_acc_simple, test_acc_simple = eval_net_simple(epochs,train_loader, test_loader)\n",
        "  print(\"Training accuracy: \", round(train_acc_simple*100,2))\n",
        "  print(\"Test accuracy: \", round(test_acc_simple*100,2))\n",
        "  # plt.plot(losses_simple)\n",
        "  # plt.show()\n",
        "\n",
        "  decoded_train_batches=[]\n",
        "  decoded_test_batches=[]\n",
        "  \n",
        "  for data in encoded_train_batches:\n",
        "    inputs, lbls = data\n",
        "    labels = inputs\n",
        "    inputs=inputs.cuda()\n",
        "    labels=labels.cuda()\n",
        "    inputs=inputs.view(inputs.shape[0],-1)\n",
        "    decoded_train_batch=net.decode(inputs)\n",
        "    decoded_train_batches.append((decoded_train_batch.reshape(decoded_train_batch.shape[0], 1, 28 , 28), lbls))\n",
        "  \n",
        "  for data in encoded_train_batches:\n",
        "    inputs, lbls = data\n",
        "    labels = inputs\n",
        "    inputs=inputs.cuda()\n",
        "    labels=labels.cuda()\n",
        "    inputs=inputs.view(inputs.shape[0],-1)\n",
        "    decoded_test_batch=net.decode(inputs)\n",
        "    decoded_test_batches.append((decoded_test_batch.reshape(decoded_train_batch.shape[0], 1, 28 ,28), lbls))\n",
        "\n",
        "  losses_cnn, train_acc_cnn, test_acc_cnn = eval_net_cnn(epochs, decoded_train_batches, decoded_test_batches)\n",
        "  print(\"Training accuracy: \", round(train_acc_cnn*100,2))\n",
        "  print(\"Test accuracy: \", round(test_acc_cnn*2,2))\n",
        "  # plt.plot(losses_cnn)\n",
        "  # plt.show()\n",
        "\n",
        "  return losses_simple, round(train_acc_simple*100,2), round(test_acc_simple*100,2), losses_cnn, round(train_acc_cnn*100,2), round(test_acc_cnn*100,2)"
      ],
      "execution_count": 0,
      "outputs": []
    },
    {
      "cell_type": "markdown",
      "metadata": {
        "id": "857Ak7e2FsMH",
        "colab_type": "text"
      },
      "source": [
        "## `Q c: i & ii)` The below cells is the driver code which does all the operations required in ` Q c`."
      ]
    },
    {
      "cell_type": "code",
      "metadata": {
        "id": "-ePjJ-s-0dnS",
        "colab_type": "code",
        "outputId": "8e0490dd-7c8b-4b8b-be60-1c47c9e20d4d",
        "colab": {
          "base_uri": "https://localhost:8080/",
          "height": 1000
        }
      },
      "source": [
        "train_set = datasets.MNIST('./mnist_data', download=True, train=True,\n",
        "                            transform=transforms.Compose([\n",
        "                              transforms.ToTensor(),\n",
        "                              transforms.Normalize((0.5,), (0.5,))\n",
        "                            ]))\n",
        "test_set = datasets.MNIST('./mnist_data', download=True, train=False,\n",
        "                            transform=transforms.Compose([\n",
        "                              transforms.ToTensor(),\n",
        "                              transforms.Normalize((0.5,), (0.5,))\n",
        "                            ]))\n",
        "\n",
        "x_train_c=train_set.data\n",
        "y_train_c=train_set.targets\n",
        "\n",
        "x_test_c=test_set.data\n",
        "y_test_c=test_set.targets\n",
        "\n",
        "x_train_c = x_train_c.reshape(x_train_c.shape[0], -1)\n",
        "x_test_c = x_test_c.reshape(x_test_c.shape[0], -1)\n",
        "\n",
        "train_set.data=x_train_c\n",
        "test_set.data=x_test_c\n",
        "\n",
        "print(x_train_c.shape, x_test_c.shape)\n",
        "\n",
        "hidden_sizes=[39,120,236,331]\n",
        "variances=[50, 75, 90, 95]\n",
        "input_size=784\n",
        "\n",
        "trainset=train_set\n",
        "valset=test_set\n",
        "\n",
        "train_loader=createBatches(trainset.data,trainset.targets,batch_size)\n",
        "test_loader=createBatches(valset.data, valset.targets,batch_size)\n",
        "\n",
        "train_accs_feed_forward=[variances,[]]\n",
        "test_accs_feed_forward=[variances,[]]\n",
        "train_accs_cnn=[variances,[]]\n",
        "test_accs_cnn=[variances,[]]\n",
        "\n",
        "for hidden_size in hidden_sizes:\n",
        "  losses_simple, train_acc_simple, test_acc_simple, losses_cnn, train_acc_cnn, test_acc_cnn = eval_net_c(11, hidden_size, train_loader, test_loader)\n",
        "  # print(\"Training accuracy: \", train_acc)\n",
        "  # print(\"Test accuracy: \", test_acc)\n",
        "  train_accs_feed_forward[1].append(train_acc_simple)\n",
        "  test_accs_feed_forward[1].append(test_acc_simple)\n",
        "  train_accs_cnn[1].append(train_acc_cnn)\n",
        "  test_accs_cnn[1].append(test_acc_cnn)\n",
        "  plt.plot(losses_simple)\n",
        "  plt.title('Loss for Feed Forward Network')\n",
        "  plt.show()\n",
        "  plt.plot(losses_cnn)\n",
        "  plt.title('Loss for CNN')\n",
        "  plt.show()"
      ],
      "execution_count": 0,
      "outputs": [
        {
          "output_type": "stream",
          "text": [
            "torch.Size([60000, 784]) torch.Size([10000, 784])\n",
            "\n",
            "Initializing the Auto encoder-decoder with hidden-size: 39 ...\n",
            "Training the network ...\n",
            "Epoch:  1\n"
          ],
          "name": "stdout"
        },
        {
          "output_type": "stream",
          "text": [
            "/usr/local/lib/python3.6/dist-packages/ipykernel_launcher.py:5: UserWarning: To copy construct from a tensor, it is recommended to use sourceTensor.clone().detach() or sourceTensor.clone().detach().requires_grad_(True), rather than torch.tensor(sourceTensor).\n",
            "  \"\"\"\n"
          ],
          "name": "stderr"
        },
        {
          "output_type": "stream",
          "text": [
            "Epoch:  2\n",
            "Epoch:  3\n",
            "Epoch:  4\n",
            "Epoch:  5\n",
            "Epoch:  6\n",
            "Epoch:  7\n",
            "Epoch:  8\n",
            "Epoch:  9\n",
            "Epoch:  10\n",
            "Epoch:  11\n",
            "\n",
            "Initializing the simple neural network ...\n",
            "Training the network ...\n",
            "Epoch:  1\n",
            "Epoch:  2\n",
            "Epoch:  3\n",
            "Epoch:  4\n",
            "Epoch:  5\n",
            "Epoch:  6\n",
            "Epoch:  7\n",
            "Epoch:  8\n",
            "Epoch:  9\n",
            "Epoch:  10\n",
            "Epoch:  11\n",
            "Evaluating on training data ...\n",
            "Evaluating on test data ...\n",
            "Training accuracy:  97.84\n",
            "Test accuracy:  96.14\n",
            "\n",
            "Initializing the convolutional neural network ...\n",
            "Training the network ...\n",
            "Epoch:  1\n",
            "Epoch:  2\n",
            "Epoch:  3\n",
            "Epoch:  4\n",
            "Epoch:  5\n",
            "Epoch:  6\n",
            "Epoch:  7\n",
            "Epoch:  8\n",
            "Epoch:  9\n",
            "Epoch:  10\n",
            "Epoch:  11\n",
            "Evaluating on training data ...\n",
            "Evaluating on test data ...\n",
            "Training accuracy:  98.87\n",
            "Test accuracy:  1.98\n"
          ],
          "name": "stdout"
        },
        {
          "output_type": "display_data",
          "data": {
            "image/png": "[encoded data removed]",
            "text/plain": [
              "<Figure size 432x288 with 1 Axes>"
            ]
          },
          "metadata": {
            "tags": []
          }
        },
        {
          "output_type": "display_data",
          "data": {
            "image/png": "[encoded data removed]",
            "text/plain": [
              "<Figure size 432x288 with 1 Axes>"
            ]
          },
          "metadata": {
            "tags": []
          }
        },
        {
          "output_type": "stream",
          "text": [
            "\n",
            "Initializing the Auto encoder-decoder with hidden-size: 120 ...\n",
            "Training the network ...\n",
            "Epoch:  1\n",
            "Epoch:  2\n",
            "Epoch:  3\n",
            "Epoch:  4\n",
            "Epoch:  5\n",
            "Epoch:  6\n",
            "Epoch:  7\n",
            "Epoch:  8\n",
            "Epoch:  9\n",
            "Epoch:  10\n",
            "Epoch:  11\n",
            "\n",
            "Initializing the simple neural network ...\n",
            "Training the network ...\n",
            "Epoch:  1\n",
            "Epoch:  2\n",
            "Epoch:  3\n",
            "Epoch:  4\n",
            "Epoch:  5\n",
            "Epoch:  6\n",
            "Epoch:  7\n",
            "Epoch:  8\n",
            "Epoch:  9\n",
            "Epoch:  10\n",
            "Epoch:  11\n",
            "Evaluating on training data ...\n",
            "Evaluating on test data ...\n",
            "Training accuracy:  97.28\n",
            "Test accuracy:  95.81\n",
            "\n",
            "Initializing the convolutional neural network ...\n",
            "Training the network ...\n",
            "Epoch:  1\n",
            "Epoch:  2\n",
            "Epoch:  3\n",
            "Epoch:  4\n",
            "Epoch:  5\n",
            "Epoch:  6\n",
            "Epoch:  7\n",
            "Epoch:  8\n",
            "Epoch:  9\n",
            "Epoch:  10\n",
            "Epoch:  11\n",
            "Evaluating on training data ...\n",
            "Evaluating on test data ...\n",
            "Training accuracy:  99.68\n",
            "Test accuracy:  1.99\n"
          ],
          "name": "stdout"
        },
        {
          "output_type": "display_data",
          "data": {
            "image/png": "[encoded data removed]",
            "text/plain": [
              "<Figure size 432x288 with 1 Axes>"
            ]
          },
          "metadata": {
            "tags": []
          }
        },
        {
          "output_type": "display_data",
          "data": {
            "image/png": "[encoded data removed]",
            "text/plain": [
              "<Figure size 432x288 with 1 Axes>"
            ]
          },
          "metadata": {
            "tags": []
          }
        },
        {
          "output_type": "stream",
          "text": [
            "\n",
            "Initializing the Auto encoder-decoder with hidden-size: 236 ...\n",
            "Training the network ...\n",
            "Epoch:  1\n",
            "Epoch:  2\n",
            "Epoch:  3\n",
            "Epoch:  4\n",
            "Epoch:  5\n",
            "Epoch:  6\n",
            "Epoch:  7\n",
            "Epoch:  8\n",
            "Epoch:  9\n",
            "Epoch:  10\n",
            "Epoch:  11\n",
            "\n",
            "Initializing the simple neural network ...\n",
            "Training the network ...\n",
            "Epoch:  1\n",
            "Epoch:  2\n",
            "Epoch:  3\n",
            "Epoch:  4\n",
            "Epoch:  5\n",
            "Epoch:  6\n",
            "Epoch:  7\n",
            "Epoch:  8\n",
            "Epoch:  9\n",
            "Epoch:  10\n",
            "Epoch:  11\n",
            "Evaluating on training data ...\n",
            "Evaluating on test data ...\n",
            "Training accuracy:  97.57\n",
            "Test accuracy:  95.95\n",
            "\n",
            "Initializing the convolutional neural network ...\n",
            "Training the network ...\n",
            "Epoch:  1\n",
            "Epoch:  2\n",
            "Epoch:  3\n",
            "Epoch:  4\n",
            "Epoch:  5\n",
            "Epoch:  6\n",
            "Epoch:  7\n",
            "Epoch:  8\n",
            "Epoch:  9\n",
            "Epoch:  10\n",
            "Epoch:  11\n",
            "Evaluating on training data ...\n",
            "Evaluating on test data ...\n",
            "Training accuracy:  99.17\n",
            "Test accuracy:  1.98\n"
          ],
          "name": "stdout"
        },
        {
          "output_type": "display_data",
          "data": {
            "image/png": "[encoded data removed]",
            "text/plain": [
              "<Figure size 432x288 with 1 Axes>"
            ]
          },
          "metadata": {
            "tags": []
          }
        },
        {
          "output_type": "display_data",
          "data": {
            "image/png": "[encoded data removed]",
            "text/plain": [
              "<Figure size 432x288 with 1 Axes>"
            ]
          },
          "metadata": {
            "tags": []
          }
        },
        {
          "output_type": "stream",
          "text": [
            "\n",
            "Initializing the Auto encoder-decoder with hidden-size: 331 ...\n",
            "Training the network ...\n",
            "Epoch:  1\n",
            "Epoch:  2\n",
            "Epoch:  3\n",
            "Epoch:  4\n",
            "Epoch:  5\n",
            "Epoch:  6\n",
            "Epoch:  7\n",
            "Epoch:  8\n",
            "Epoch:  9\n",
            "Epoch:  10\n",
            "Epoch:  11\n",
            "\n",
            "Initializing the simple neural network ...\n",
            "Training the network ...\n",
            "Epoch:  1\n",
            "Epoch:  2\n",
            "Epoch:  3\n",
            "Epoch:  4\n",
            "Epoch:  5\n",
            "Epoch:  6\n",
            "Epoch:  7\n",
            "Epoch:  8\n",
            "Epoch:  9\n",
            "Epoch:  10\n",
            "Epoch:  11\n",
            "Evaluating on training data ...\n",
            "Evaluating on test data ...\n",
            "Training accuracy:  96.92\n",
            "Test accuracy:  95.8\n",
            "\n",
            "Initializing the convolutional neural network ...\n",
            "Training the network ...\n",
            "Epoch:  1\n",
            "Epoch:  2\n",
            "Epoch:  3\n",
            "Epoch:  4\n",
            "Epoch:  5\n",
            "Epoch:  6\n",
            "Epoch:  7\n",
            "Epoch:  8\n",
            "Epoch:  9\n",
            "Epoch:  10\n",
            "Epoch:  11\n",
            "Evaluating on training data ...\n",
            "Evaluating on test data ...\n",
            "Training accuracy:  99.48\n",
            "Test accuracy:  1.99\n"
          ],
          "name": "stdout"
        },
        {
          "output_type": "display_data",
          "data": {
            "image/png": "[encoded data removed]",
            "text/plain": [
              "<Figure size 432x288 with 1 Axes>"
            ]
          },
          "metadata": {
            "tags": []
          }
        },
        {
          "output_type": "display_data",
          "data": {
            "image/png": "[encoded data removed]",
            "text/plain": [
              "<Figure size 432x288 with 1 Axes>"
            ]
          },
          "metadata": {
            "tags": []
          }
        }
      ]
    },
    {
      "cell_type": "code",
      "metadata": {
        "id": "FFzmJpyNKc9W",
        "colab_type": "code",
        "outputId": "558249a8-5b93-4169-f224-79bec679f5be",
        "colab": {
          "base_uri": "https://localhost:8080/",
          "height": 573
        }
      },
      "source": [
        "plot_bar_graphs(train_accs_feed_forward, test_accs_feed_forward, title=\"Train VS Test on Feed forward\")\n",
        "plot_bar_graphs(train_accs_cnn, test_accs_cnn, title=\"Train VS Test on CNN\")"
      ],
      "execution_count": 0,
      "outputs": [
        {
          "output_type": "display_data",
          "data": {
            "image/png": "[encoded data removed]",
            "text/plain": [
              "<Figure size 432x288 with 1 Axes>"
            ]
          },
          "metadata": {
            "tags": []
          }
        },
        {
          "output_type": "display_data",
          "data": {
            "image/png": "[encoded data removed]",
            "text/plain": [
              "<Figure size 432x288 with 1 Axes>"
            ]
          },
          "metadata": {
            "tags": []
          }
        }
      ]
    },
    {
      "cell_type": "markdown",
      "metadata": {
        "id": "ynaIMp7aRc1q",
        "colab_type": "text"
      },
      "source": [
        "## Observation Q c)\n",
        "### As we can see in the bar graph, auto encoders performs better in terms of accuracy than PCA.  \n",
        "\n",
        "\n",
        "`Also, CNN performs better than feed forward neural netowork`"
      ]
    },
    {
      "cell_type": "markdown",
      "metadata": {
        "id": "77BMFfanKU40",
        "colab_type": "text"
      },
      "source": [
        "# Q d)"
      ]
    },
    {
      "cell_type": "markdown",
      "metadata": {
        "id": "ecu-7SgtKtxL",
        "colab_type": "text"
      },
      "source": [
        "## The below cell defines a class for NonLinearAutoEncoder which is modified version of the auto-encoder with non-linear activation function (ReLU)."
      ]
    },
    {
      "cell_type": "code",
      "metadata": {
        "id": "0scGIvANbDhA",
        "colab_type": "code",
        "colab": {}
      },
      "source": [
        "class NonLinearAutoEncoder(nn.Module):\n",
        "  def __init__(self, input_size = 784, hidden_size = 39):\n",
        "    super(NonLinearAutoEncoder, self).__init__()\n",
        "    self.l1 = nn.Linear(input_size, hidden_size)\n",
        "    self.out = nn.Linear(hidden_size, input_size)\n",
        "      \n",
        "  def encode(self, x):\n",
        "    x = F.relu(self.l1(x))\n",
        "    x.reshape(x.shape[0],-1)\n",
        "    return x\n",
        "\n",
        "  def decode(self, x):\n",
        "    x = F.relu(self.out(x))\n",
        "    x.reshape(x.shape[0],-1)\n",
        "    return x\n",
        "\n",
        "  def forward(self, x):\n",
        "    x = self.encode(x)\n",
        "    x = self.decode(x)\n",
        "    return x"
      ],
      "execution_count": 0,
      "outputs": []
    },
    {
      "cell_type": "markdown",
      "metadata": {
        "id": "OlnWxll-LIGw",
        "colab_type": "text"
      },
      "source": [
        "## The function eval_net_d is used to perform all the required operations in the `Q d)`"
      ]
    },
    {
      "cell_type": "code",
      "metadata": {
        "id": "M_xOHmwRgzbG",
        "colab_type": "code",
        "colab": {}
      },
      "source": [
        "def eval_net_d(epochs, hidden_size, train_loader, test_loader):\n",
        "\n",
        "  ##### Prepare return values ##################################################\n",
        "  losses = []\n",
        "  train_acc = 0\n",
        "  test_acc = 0\n",
        "\n",
        "  ##### Initialize the network and optimizer ###################################\n",
        "\n",
        "  print(\"\\nInitializing the Auto encoder-decoder ...\")\n",
        "\n",
        "  # print(train_loader[0][0].shape[-1])\n",
        "  input_size=train_loader[0][0].shape[-1]\n",
        "\n",
        "  net = NonLinearAutoEncoder(input_size=input_size, hidden_size=hidden_size)\n",
        "  net.cuda()\n",
        "\n",
        "  criterion = nn.MSELoss()\n",
        "  optimizer = optim.Adam(net.parameters(), lr=0.001) # lr = learning rate/step size\n",
        "\n",
        "  ##### Training the network ###################################################\n",
        "\n",
        "  print(\"Training the network ...\")\n",
        "  for e in range(epochs):  # loop over the dataset multiple times\n",
        "    print(\"Epoch: \", e+1)\n",
        "    for data in train_loader:\n",
        "      inputs, _ = data\n",
        "      labels = inputs\n",
        "      inputs=inputs.cuda()\n",
        "      labels=labels.cuda()\n",
        "      optimizer.zero_grad() # zero the parameter gradients\n",
        "      inputs=inputs.view(inputs.shape[0],-1)\n",
        "      labels=labels.view(labels.shape[0],-1)\n",
        "      outputs = net(inputs) # forward pass\n",
        "      loss = criterion(outputs, labels) # compute loss\n",
        "      loss.backward() # backward pass\n",
        "      optimizer.step() # gradient descent update\n",
        "      losses.append(loss.item())\n",
        "    \n",
        "  encoded_train_batches=[]\n",
        "  encoded_test_batches=[]\n",
        "\n",
        "  for data in train_loader:\n",
        "    inputs, lbls = data\n",
        "    labels = inputs\n",
        "    inputs=inputs.cuda()\n",
        "    labels=labels.cuda()\n",
        "    inputs=inputs.view(inputs.shape[0],-1)\n",
        "    encoded_train_batch=net.encode(inputs)\n",
        "    encoded_train_batches.append((encoded_train_batch,lbls))\n",
        "  \n",
        "  for data in test_loader:\n",
        "    inputs, lbls = data\n",
        "    labels = inputs\n",
        "    inputs=inputs.cuda()\n",
        "    labels=labels.cuda()\n",
        "    inputs=inputs.view(inputs.shape[0],-1)\n",
        "    encoded_test_batch=net.encode(inputs)\n",
        "    encoded_test_batches.append((encoded_test_batch, lbls))\n",
        "\n",
        "  losses_simple, train_acc_simple, test_acc_simple = eval_net_simple(epochs,train_loader, test_loader)\n",
        "  print(\"Training accuracy: \", round(train_acc_simple*100,2))\n",
        "  print(\"Test accuracy: \", round(test_acc_simple*100,2))\n",
        "\n",
        "  decoded_train_batches=[]\n",
        "  decoded_test_batches=[]\n",
        "  \n",
        "  for data in encoded_train_batches:\n",
        "    inputs, lbls = data\n",
        "    labels = inputs\n",
        "    inputs=inputs.cuda()\n",
        "    labels=labels.cuda()\n",
        "    inputs=inputs.view(inputs.shape[0],-1)\n",
        "    decoded_train_batch=net.decode(inputs)\n",
        "    decoded_train_batches.append((decoded_train_batch.reshape(decoded_train_batch.shape[0], 1, 28 , 28), lbls))\n",
        "  \n",
        "  for data in encoded_train_batches:\n",
        "    inputs, lbls = data\n",
        "    labels = inputs\n",
        "    inputs=inputs.cuda()\n",
        "    labels=labels.cuda()\n",
        "    inputs=inputs.view(inputs.shape[0],-1)\n",
        "    decoded_test_batch=net.decode(inputs)\n",
        "    decoded_test_batches.append((decoded_test_batch.reshape(decoded_train_batch.shape[0], 1, 28 ,28), lbls))\n",
        "\n",
        "  losses_cnn, train_acc_cnn, test_acc_cnn = eval_net_cnn(epochs, decoded_train_batches, decoded_test_batches)\n",
        "  print(\"Training accuracy: \", round(train_acc_cnn*100,2))\n",
        "  print(\"Test accuracy: \", round(test_acc_cnn*100,2))\n",
        "\n",
        "  return losses_simple, round(train_acc_simple*100,2), round(test_acc_simple*100,2), losses_cnn, round(train_acc_cnn*100,2), round(test_acc_cnn*100,2)"
      ],
      "execution_count": 0,
      "outputs": []
    },
    {
      "cell_type": "markdown",
      "metadata": {
        "id": "66_kn7xYOlZX",
        "colab_type": "text"
      },
      "source": [
        "## `Q d)` The below cells is the driver code which does all the operations required in ` Q d`."
      ]
    },
    {
      "cell_type": "code",
      "metadata": {
        "id": "hPqPsQiXbDZb",
        "colab_type": "code",
        "outputId": "6779b471-b3ea-4c97-f3d2-6f2b493223c2",
        "colab": {
          "base_uri": "https://localhost:8080/",
          "height": 1000
        }
      },
      "source": [
        "train_set = datasets.MNIST('./mnist_data', download=True, train=True,\n",
        "                            transform=transforms.Compose([\n",
        "                              transforms.ToTensor(),\n",
        "                              transforms.Normalize((0.5,), (0.5,))\n",
        "                            ]))\n",
        "test_set = datasets.MNIST('./mnist_data', download=True, train=False,\n",
        "                            transform=transforms.Compose([\n",
        "                              transforms.ToTensor(),\n",
        "                              transforms.Normalize((0.5,), (0.5,))\n",
        "                            ]))\n",
        "\n",
        "hidde_sizes=[39,120,236,331]\n",
        "input_size=784\n",
        "\n",
        "x_train_c=train_set.data\n",
        "y_train_c=train_set.targets\n",
        "\n",
        "x_test_c=test_set.data\n",
        "y_test_c=test_set.targets\n",
        "\n",
        "x_train_c = x_train_c.reshape(x_train_c.shape[0], -1)\n",
        "x_test_c = x_test_c.reshape(x_test_c.shape[0], -1)\n",
        "\n",
        "train_set.data=x_train_c\n",
        "test_set.data=x_test_c\n",
        "\n",
        "\n",
        "hidden_sizes=[39,120,236,331]\n",
        "variances=[50, 75, 90, 95]\n",
        "input_size=784\n",
        "\n",
        "trainset=train_set\n",
        "valset=test_set\n",
        "\n",
        "train_loader=createBatches(trainset.data,trainset.targets,batch_size)\n",
        "test_loader=createBatches(valset.data, valset.targets,batch_size)\n",
        "\n",
        "train_accs_feed_forward=[variances,[]]\n",
        "test_accs_feed_forward=[variances,[]]\n",
        "train_accs_cnn=[variances,[]]\n",
        "test_accs_cnn=[variances,[]]\n",
        "\n",
        "\n",
        "for hidden_size in hidden_sizes:\n",
        "  losses_simple, train_acc_simple, test_acc_simple, losses_cnn, train_acc_cnn, test_acc_cnn = eval_net_d(11, hidden_size, train_loader, test_loader)\n",
        "  train_accs_feed_forward[1].append(train_acc_simple)\n",
        "  test_accs_feed_forward[1].append(test_acc_simple)\n",
        "  train_accs_cnn[1].append(train_acc_cnn)\n",
        "  test_accs_cnn[1].append(test_acc_cnn)\n",
        "  plt.plot(losses_simple)\n",
        "  plt.title('Loss for Feed Forward Network')\n",
        "  plt.show()\n",
        "  plt.plot(losses_cnn)\n",
        "  plt.title('Loss for CNN')\n",
        "  plt.show()"
      ],
      "execution_count": 0,
      "outputs": [
        {
          "output_type": "stream",
          "text": [
            "/usr/local/lib/python3.6/dist-packages/ipykernel_launcher.py:5: UserWarning: To copy construct from a tensor, it is recommended to use sourceTensor.clone().detach() or sourceTensor.clone().detach().requires_grad_(True), rather than torch.tensor(sourceTensor).\n",
            "  \"\"\"\n"
          ],
          "name": "stderr"
        },
        {
          "output_type": "stream",
          "text": [
            "\n",
            "Initializing the Auto encoder-decoder ...\n",
            "Training the network ...\n",
            "Epoch:  1\n",
            "Epoch:  2\n",
            "Epoch:  3\n",
            "Epoch:  4\n",
            "Epoch:  5\n",
            "Epoch:  6\n",
            "Epoch:  7\n",
            "Epoch:  8\n",
            "Epoch:  9\n",
            "Epoch:  10\n",
            "Epoch:  11\n",
            "\n",
            "Initializing the simple neural network ...\n",
            "Training the network ...\n",
            "Epoch:  1\n",
            "Epoch:  2\n",
            "Epoch:  3\n",
            "Epoch:  4\n",
            "Epoch:  5\n",
            "Epoch:  6\n",
            "Epoch:  7\n",
            "Epoch:  8\n",
            "Epoch:  9\n",
            "Epoch:  10\n",
            "Epoch:  11\n",
            "Evaluating on training data ...\n",
            "Evaluating on test data ...\n",
            "Training accuracy:  97.65\n",
            "Test accuracy:  96.11\n",
            "\n",
            "Initializing the convolutional neural network ...\n",
            "Training the network ...\n",
            "Epoch:  1\n",
            "Epoch:  2\n",
            "Epoch:  3\n",
            "Epoch:  4\n",
            "Epoch:  5\n",
            "Epoch:  6\n",
            "Epoch:  7\n",
            "Epoch:  8\n",
            "Epoch:  9\n",
            "Epoch:  10\n",
            "Epoch:  11\n",
            "Evaluating on training data ...\n",
            "Evaluating on test data ...\n",
            "Training accuracy:  98.9\n",
            "Test accuracy:  98.9\n"
          ],
          "name": "stdout"
        },
        {
          "output_type": "display_data",
          "data": {
            "image/png": "[encoded data removed]",
            "text/plain": [
              "<Figure size 432x288 with 1 Axes>"
            ]
          },
          "metadata": {
            "tags": []
          }
        },
        {
          "output_type": "display_data",
          "data": {
            "image/png": "[encoded data removed]",
            "text/plain": [
              "<Figure size 432x288 with 1 Axes>"
            ]
          },
          "metadata": {
            "tags": []
          }
        },
        {
          "output_type": "stream",
          "text": [
            "\n",
            "Initializing the Auto encoder-decoder ...\n",
            "Training the network ...\n",
            "Epoch:  1\n",
            "Epoch:  2\n",
            "Epoch:  3\n",
            "Epoch:  4\n",
            "Epoch:  5\n",
            "Epoch:  6\n",
            "Epoch:  7\n",
            "Epoch:  8\n",
            "Epoch:  9\n",
            "Epoch:  10\n",
            "Epoch:  11\n",
            "\n",
            "Initializing the simple neural network ...\n",
            "Training the network ...\n",
            "Epoch:  1\n",
            "Epoch:  2\n",
            "Epoch:  3\n",
            "Epoch:  4\n",
            "Epoch:  5\n",
            "Epoch:  6\n",
            "Epoch:  7\n",
            "Epoch:  8\n",
            "Epoch:  9\n",
            "Epoch:  10\n",
            "Epoch:  11\n",
            "Evaluating on training data ...\n",
            "Evaluating on test data ...\n",
            "Training accuracy:  97.3\n",
            "Test accuracy:  95.76\n",
            "\n",
            "Initializing the convolutional neural network ...\n",
            "Training the network ...\n",
            "Epoch:  1\n",
            "Epoch:  2\n",
            "Epoch:  3\n",
            "Epoch:  4\n",
            "Epoch:  5\n",
            "Epoch:  6\n",
            "Epoch:  7\n",
            "Epoch:  8\n",
            "Epoch:  9\n",
            "Epoch:  10\n",
            "Epoch:  11\n",
            "Evaluating on training data ...\n",
            "Evaluating on test data ...\n",
            "Training accuracy:  99.55\n",
            "Test accuracy:  99.55\n"
          ],
          "name": "stdout"
        },
        {
          "output_type": "display_data",
          "data": {
            "image/png": "[encoded data removed]",
            "text/plain": [
              "<Figure size 432x288 with 1 Axes>"
            ]
          },
          "metadata": {
            "tags": []
          }
        },
        {
          "output_type": "display_data",
          "data": {
            "image/png": "[encoded data removed]",
            "text/plain": [
              "<Figure size 432x288 with 1 Axes>"
            ]
          },
          "metadata": {
            "tags": []
          }
        },
        {
          "output_type": "stream",
          "text": [
            "\n",
            "Initializing the Auto encoder-decoder ...\n",
            "Training the network ...\n",
            "Epoch:  1\n",
            "Epoch:  2\n",
            "Epoch:  3\n",
            "Epoch:  4\n",
            "Epoch:  5\n",
            "Epoch:  6\n",
            "Epoch:  7\n",
            "Epoch:  8\n",
            "Epoch:  9\n",
            "Epoch:  10\n",
            "Epoch:  11\n",
            "\n",
            "Initializing the simple neural network ...\n",
            "Training the network ...\n",
            "Epoch:  1\n",
            "Epoch:  2\n",
            "Epoch:  3\n",
            "Epoch:  4\n",
            "Epoch:  5\n",
            "Epoch:  6\n",
            "Epoch:  7\n",
            "Epoch:  8\n",
            "Epoch:  9\n",
            "Epoch:  10\n",
            "Epoch:  11\n",
            "Evaluating on training data ...\n",
            "Evaluating on test data ...\n",
            "Training accuracy:  96.9\n",
            "Test accuracy:  95.0\n",
            "\n",
            "Initializing the convolutional neural network ...\n",
            "Training the network ...\n",
            "Epoch:  1\n",
            "Epoch:  2\n",
            "Epoch:  3\n",
            "Epoch:  4\n",
            "Epoch:  5\n",
            "Epoch:  6\n",
            "Epoch:  7\n",
            "Epoch:  8\n",
            "Epoch:  9\n",
            "Epoch:  10\n",
            "Epoch:  11\n",
            "Evaluating on training data ...\n",
            "Evaluating on test data ...\n",
            "Training accuracy:  99.46\n",
            "Test accuracy:  99.46\n"
          ],
          "name": "stdout"
        },
        {
          "output_type": "display_data",
          "data": {
            "image/png": "[encoded data removed]",
            "text/plain": [
              "<Figure size 432x288 with 1 Axes>"
            ]
          },
          "metadata": {
            "tags": []
          }
        },
        {
          "output_type": "display_data",
          "data": {
            "image/png": "[encoded data removed]",
            "text/plain": [
              "<Figure size 432x288 with 1 Axes>"
            ]
          },
          "metadata": {
            "tags": []
          }
        },
        {
          "output_type": "stream",
          "text": [
            "\n",
            "Initializing the Auto encoder-decoder ...\n",
            "Training the network ...\n",
            "Epoch:  1\n",
            "Epoch:  2\n",
            "Epoch:  3\n",
            "Epoch:  4\n",
            "Epoch:  5\n",
            "Epoch:  6\n",
            "Epoch:  7\n",
            "Epoch:  8\n",
            "Epoch:  9\n",
            "Epoch:  10\n",
            "Epoch:  11\n",
            "\n",
            "Initializing the simple neural network ...\n",
            "Training the network ...\n",
            "Epoch:  1\n",
            "Epoch:  2\n",
            "Epoch:  3\n",
            "Epoch:  4\n",
            "Epoch:  5\n",
            "Epoch:  6\n",
            "Epoch:  7\n",
            "Epoch:  8\n",
            "Epoch:  9\n",
            "Epoch:  10\n",
            "Epoch:  11\n",
            "Evaluating on training data ...\n",
            "Evaluating on test data ...\n",
            "Training accuracy:  97.52\n",
            "Test accuracy:  95.98\n",
            "\n",
            "Initializing the convolutional neural network ...\n",
            "Training the network ...\n",
            "Epoch:  1\n",
            "Epoch:  2\n",
            "Epoch:  3\n",
            "Epoch:  4\n",
            "Epoch:  5\n",
            "Epoch:  6\n",
            "Epoch:  7\n",
            "Epoch:  8\n",
            "Epoch:  9\n",
            "Epoch:  10\n",
            "Epoch:  11\n",
            "Evaluating on training data ...\n",
            "Evaluating on test data ...\n",
            "Training accuracy:  99.15\n",
            "Test accuracy:  99.15\n"
          ],
          "name": "stdout"
        },
        {
          "output_type": "display_data",
          "data": {
            "image/png": "[encoded data removed]",
            "text/plain": [
              "<Figure size 432x288 with 1 Axes>"
            ]
          },
          "metadata": {
            "tags": []
          }
        },
        {
          "output_type": "display_data",
          "data": {
            "image/png": "[encoded data removed]",
            "text/plain": [
              "<Figure size 432x288 with 1 Axes>"
            ]
          },
          "metadata": {
            "tags": []
          }
        }
      ]
    },
    {
      "cell_type": "code",
      "metadata": {
        "id": "urFKpDuUOzK8",
        "colab_type": "code",
        "outputId": "19dd84bf-d335-41b0-e300-4e37008b5821",
        "colab": {
          "base_uri": "https://localhost:8080/",
          "height": 573
        }
      },
      "source": [
        "plot_bar_graphs(train_accs_feed_forward, test_accs_feed_forward, title=\"Train VS Test on Feed forward\")\n",
        "plot_bar_graphs(train_accs_cnn, test_accs_cnn, title=\"Train VS Test on CNN\")"
      ],
      "execution_count": 0,
      "outputs": [
        {
          "output_type": "display_data",
          "data": {
            "image/png": "[encoded data removed]",
            "text/plain": [
              "<Figure size 432x288 with 1 Axes>"
            ]
          },
          "metadata": {
            "tags": []
          }
        },
        {
          "output_type": "display_data",
          "data": {
            "image/png": "[encoded data removed]",
            "text/plain": [
              "<Figure size 432x288 with 1 Axes>"
            ]
          },
          "metadata": {
            "tags": []
          }
        }
      ]
    },
    {
      "cell_type": "markdown",
      "metadata": {
        "id": "Ur2QB5iROz0J",
        "colab_type": "text"
      },
      "source": [
        "## Observation \n",
        "\n",
        "\n",
        "\n",
        "\n",
        "`The NonLinear autoencoder performs and reconstructs image with less noise as compared to linear autoencoders.`\n",
        "\n"
      ]
    },
    {
      "cell_type": "markdown",
      "metadata": {
        "id": "DrWdTa55R_yF",
        "colab_type": "text"
      },
      "source": [
        "# References:\n",
        "\n",
        "\n",
        "\n",
        "1.   [PCA using Python (scikit-learn)](https://towardsdatascience.com/pca-using-python-scikit-learn-e653f8989e60)\n",
        "2.   \n",
        "[DEEP LEARNING WITH PYTORCH: A 60 MINUTE BLITZ](https://pytorch.org/tutorials/beginner/deep_learning_60min_blitz.html)\n",
        "3. [Grouped bar chart with labels](https://matplotlib.org/3.1.1/gallery/lines_bars_and_markers/barchart.html#sphx-glr-gallery-lines-bars-and-markers-barchart-py)\n",
        "\n",
        "\n",
        "\n"
      ]
    },
    {
      "cell_type": "code",
      "metadata": {
        "id": "N1qb5fJLWiln",
        "colab_type": "code",
        "colab": {}
      },
      "source": [
        ""
      ],
      "execution_count": 0,
      "outputs": []
    }
  ]
}